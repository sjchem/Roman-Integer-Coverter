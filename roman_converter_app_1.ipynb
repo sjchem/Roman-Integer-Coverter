{
  "nbformat": 4,
  "nbformat_minor": 0,
  "metadata": {
    "colab": {
      "provenance": []
    },
    "kernelspec": {
      "name": "python3",
      "display_name": "Python 3"
    },
    "language_info": {
      "name": "python"
    }
  },
  "cells": [
    {
      "cell_type": "code",
      "source": [
        "import streamlit as st\n",
        "\n",
        "# Conversion Functions\n",
        "\n",
        "def roman_to_int(roman):\n",
        "    roman_values = {\n",
        "        \"I\": 1, \"V\": 5, \"X\": 10, \"L\": 50,\n",
        "        \"C\": 100, \"D\": 500, \"M\": 1000\n",
        "    }\n",
        "\n",
        "    total = 0\n",
        "    prev_value = 0\n",
        "\n",
        "    for char in reversed(roman.upper()):\n",
        "        if char not in roman_values:\n",
        "            return \"Invalid Roman numeral!\"\n",
        "        value = roman_values[char]\n",
        "        if value < prev_value:\n",
        "            total -= value\n",
        "        else:\n",
        "            total += value\n",
        "        prev_value = value\n",
        "    return total\n",
        "\n",
        "def int_to_roman(num):\n",
        "    if not (0 < num < 4000):\n",
        "        return \"Enter a number between 1 and 3999\"\n",
        "\n",
        "    value_map = [\n",
        "        (1000, \"M\"), (900, \"CM\"), (500, \"D\"), (400, \"CD\"),\n",
        "        (100, \"C\"), (90, \"XC\"), (50, \"L\"), (40, \"XL\"),\n",
        "        (10, \"X\"), (9, \"IX\"), (5, \"V\"), (4, \"IV\"), (1, \"I\")\n",
        "    ]\n",
        "\n",
        "    roman = \"\"\n",
        "    for value, symbol in value_map:\n",
        "        while num >= value:\n",
        "            roman += symbol\n",
        "            num -= value\n",
        "    return roman\n",
        "\n",
        "\n",
        "# Streamlit App Interface\n",
        "\n",
        "st.set_page_config(page_title=\"Roman ↔ Integer Converter\", page_icon=\"🏛️\", layout=\"centered\")\n",
        "\n",
        "st.title(\"🏛️ Roman ↔ Integer Converter\")\n",
        "\n",
        "st.write(\"Convert between **Roman numerals** and **integers** easily!\")\n",
        "\n",
        "# Choose conversion direction\n",
        "mode = st.radio(\"Select conversion direction:\", [\"Roman → Integer\", \"Integer → Roman\"])\n",
        "\n",
        "st.divider()\n",
        "\n",
        "# --- Roman → Integer ---\n",
        "if mode == \"Roman → Integer\":\n",
        "    roman_input = st.text_input(\"Enter a Roman numeral:\", placeholder=\"e.g. MCMXCIV\")\n",
        "    if roman_input:\n",
        "        result = roman_to_int(roman_input)\n",
        "        st.success(f\"✅ Integer value: **{result}**\")\n",
        "\n",
        "# --- Integer → Roman ---\n",
        "else:\n",
        "    number_input = st.number_input(\"Enter an integer (1–3999):\", min_value=1, max_value=3999, step=1)\n",
        "    if number_input:\n",
        "        result = int_to_roman(number_input)\n",
        "        st.success(f\"✅ Roman numeral: **{result}**\")\n",
        "\n",
        "st.divider()\n",
        "st.caption(\"Made with ❤️ by Santanu — Chemistry meets Python 🧪\")"
      ],
      "metadata": {
        "colab": {
          "base_uri": "https://localhost:8080/"
        },
        "id": "fimciax_0Z9F",
        "outputId": "00ef6375-1aab-4100-86f3-0a17498a8203"
      },
      "execution_count": 12,
      "outputs": [
        {
          "output_type": "stream",
          "name": "stderr",
          "text": [
            "2025-10-16 21:20:04.612 Thread 'MainThread': missing ScriptRunContext! This warning can be ignored when running in bare mode.\n",
            "2025-10-16 21:20:04.614 Thread 'MainThread': missing ScriptRunContext! This warning can be ignored when running in bare mode.\n",
            "2025-10-16 21:20:04.615 Thread 'MainThread': missing ScriptRunContext! This warning can be ignored when running in bare mode.\n",
            "2025-10-16 21:20:04.615 Thread 'MainThread': missing ScriptRunContext! This warning can be ignored when running in bare mode.\n",
            "2025-10-16 21:20:04.617 Thread 'MainThread': missing ScriptRunContext! This warning can be ignored when running in bare mode.\n",
            "2025-10-16 21:20:04.619 Thread 'MainThread': missing ScriptRunContext! This warning can be ignored when running in bare mode.\n",
            "2025-10-16 21:20:04.620 Thread 'MainThread': missing ScriptRunContext! This warning can be ignored when running in bare mode.\n",
            "2025-10-16 21:20:04.622 Thread 'MainThread': missing ScriptRunContext! This warning can be ignored when running in bare mode.\n",
            "2025-10-16 21:20:04.623 Thread 'MainThread': missing ScriptRunContext! This warning can be ignored when running in bare mode.\n",
            "2025-10-16 21:20:04.624 Thread 'MainThread': missing ScriptRunContext! This warning can be ignored when running in bare mode.\n",
            "2025-10-16 21:20:04.625 Thread 'MainThread': missing ScriptRunContext! This warning can be ignored when running in bare mode.\n",
            "2025-10-16 21:20:04.626 Thread 'MainThread': missing ScriptRunContext! This warning can be ignored when running in bare mode.\n",
            "2025-10-16 21:20:04.627 Thread 'MainThread': missing ScriptRunContext! This warning can be ignored when running in bare mode.\n",
            "2025-10-16 21:20:04.627 Thread 'MainThread': missing ScriptRunContext! This warning can be ignored when running in bare mode.\n",
            "2025-10-16 21:20:04.628 Thread 'MainThread': missing ScriptRunContext! This warning can be ignored when running in bare mode.\n",
            "2025-10-16 21:20:04.629 Thread 'MainThread': missing ScriptRunContext! This warning can be ignored when running in bare mode.\n",
            "2025-10-16 21:20:04.630 Thread 'MainThread': missing ScriptRunContext! This warning can be ignored when running in bare mode.\n",
            "2025-10-16 21:20:04.630 Thread 'MainThread': missing ScriptRunContext! This warning can be ignored when running in bare mode.\n",
            "2025-10-16 21:20:04.632 Thread 'MainThread': missing ScriptRunContext! This warning can be ignored when running in bare mode.\n",
            "2025-10-16 21:20:04.632 Thread 'MainThread': missing ScriptRunContext! This warning can be ignored when running in bare mode.\n",
            "2025-10-16 21:20:04.633 Thread 'MainThread': missing ScriptRunContext! This warning can be ignored when running in bare mode.\n",
            "2025-10-16 21:20:04.633 Thread 'MainThread': missing ScriptRunContext! This warning can be ignored when running in bare mode.\n",
            "2025-10-16 21:20:04.634 Thread 'MainThread': missing ScriptRunContext! This warning can be ignored when running in bare mode.\n",
            "2025-10-16 21:20:04.635 Thread 'MainThread': missing ScriptRunContext! This warning can be ignored when running in bare mode.\n",
            "2025-10-16 21:20:04.636 Thread 'MainThread': missing ScriptRunContext! This warning can be ignored when running in bare mode.\n",
            "2025-10-16 21:20:04.637 Thread 'MainThread': missing ScriptRunContext! This warning can be ignored when running in bare mode.\n",
            "2025-10-16 21:20:04.638 Thread 'MainThread': missing ScriptRunContext! This warning can be ignored when running in bare mode.\n",
            "2025-10-16 21:20:04.639 Thread 'MainThread': missing ScriptRunContext! This warning can be ignored when running in bare mode.\n",
            "2025-10-16 21:20:04.640 Thread 'MainThread': missing ScriptRunContext! This warning can be ignored when running in bare mode.\n",
            "2025-10-16 21:20:04.641 Thread 'MainThread': missing ScriptRunContext! This warning can be ignored when running in bare mode.\n"
          ]
        },
        {
          "output_type": "execute_result",
          "data": {
            "text/plain": [
              "DeltaGenerator()"
            ]
          },
          "metadata": {},
          "execution_count": 12
        }
      ]
    }
  ]
}